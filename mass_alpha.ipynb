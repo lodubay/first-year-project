{
 "cells": [
  {
   "cell_type": "code",
   "execution_count": 1,
   "id": "05e59313",
   "metadata": {},
   "outputs": [],
   "source": [
    "import pandas as pd\n",
    "import numpy as np\n",
    "from matplotlib import pyplot as plt\n",
    "from matplotlib import colors"
   ]
  },
  {
   "cell_type": "code",
   "execution_count": 2,
   "id": "0c7833f2",
   "metadata": {},
   "outputs": [],
   "source": [
    "def scatter_hist(ax, x, y, xlim=None, ylim=None, log_norm=True, cmap='gray',\n",
    "                 cmin=10, vmin=None, vmax=None):\n",
    "    \"\"\"\n",
    "    Combination scatter plot + 2D histogram for denser regions.\n",
    "\n",
    "    \"\"\"\n",
    "    if not xlim:\n",
    "        xlim = (np.min(x), np.max(x))\n",
    "    if not ylim:\n",
    "        ylim = (np.min(y), np.max(y))\n",
    "    xbins = np.linspace(xlim[0], xlim[1], num=50, endpoint=True)\n",
    "    ybins = np.linspace(ylim[0], ylim[1], num=50, endpoint=True)\n",
    "    if log_norm:\n",
    "        norm = colors.LogNorm(vmin=vmin, vmax=vmax)\n",
    "    else:\n",
    "        norm = colors.Normalize(vmin=vmin, vmax=vmax)\n",
    "        \n",
    "    ax.scatter(x, y, c='k', s=0.5)\n",
    "    ax.hist2d(x, y, bins=[xbins, ybins], cmap=cmap, norm=norm, cmin=cmin)\n",
    "        \n",
    "    dx = xbins[1] - xbins[0]\n",
    "    dy = ybins[1] - ybins[0]\n",
    "    ax.set_xlim((xlim[0] - 2*dx, xlim[1] + 2*dx))\n",
    "    ax.set_ylim((ylim[0] - 2*dy, ylim[1] + 2*dy))\n",
    "    return ax"
   ]
  },
  {
   "cell_type": "code",
   "execution_count": null,
   "id": "fb5e85ab",
   "metadata": {},
   "outputs": [],
   "source": [
    "data_file = 'C:\\\\Users\\\\dubay.11\\\\OneDrive - The Ohio State University\\\\Documents\\\\Docs\\\\First Year Project\\\\Data\\\\dr17_cut_data.csv'\n",
    "data = pd.read_csv(data_file)"
   ]
  }
 ],
 "metadata": {
  "kernelspec": {
   "display_name": "Python 3",
   "language": "python",
   "name": "python3"
  },
  "language_info": {
   "codemirror_mode": {
    "name": "ipython",
    "version": 3
   },
   "file_extension": ".py",
   "mimetype": "text/x-python",
   "name": "python",
   "nbconvert_exporter": "python",
   "pygments_lexer": "ipython3",
   "version": "3.8.8"
  }
 },
 "nbformat": 4,
 "nbformat_minor": 5
}
